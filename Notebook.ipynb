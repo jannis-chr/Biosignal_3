{
 "cells": [
  {
   "cell_type": "markdown",
   "metadata": {},
   "source": [
    "# Bioficknal_3"
   ]
  },
  {
   "cell_type": "code",
   "execution_count": null,
   "metadata": {},
   "outputs": [],
   "source": [
    "# Imports\n",
    "import os\n",
    "import numpy as np\n",
    "import matplotlib.pyplot as plt\n",
    "from scipy.signal import welch, butter, filtfilt"
   ]
  },
  {
   "cell_type": "markdown",
   "metadata": {},
   "source": [
    "Aufgabe5"
   ]
  },
  {
   "cell_type": "code",
   "execution_count": null,
   "metadata": {},
   "outputs": [],
   "source": []
  },
  {
   "cell_type": "markdown",
   "metadata": {},
   "source": [
    "Aufgabe_6"
   ]
  },
  {
   "cell_type": "code",
   "execution_count": null,
   "metadata": {},
   "outputs": [],
   "source": []
  },
  {
   "cell_type": "markdown",
   "metadata": {},
   "source": [
    "Aufgabe_7"
   ]
  },
  {
   "cell_type": "code",
   "execution_count": null,
   "metadata": {},
   "outputs": [],
   "source": []
  },
  {
   "cell_type": "markdown",
   "metadata": {},
   "source": [
    "Aufgabe_8"
   ]
  },
  {
   "cell_type": "code",
   "execution_count": null,
   "metadata": {},
   "outputs": [],
   "source": []
  },
  {
   "cell_type": "markdown",
   "metadata": {},
   "source": [
    "Aufgabe_9"
   ]
  },
  {
   "cell_type": "code",
   "execution_count": null,
   "metadata": {},
   "outputs": [],
   "source": [
    "\n",
    "\n",
    "# Funktion zum Laden der Daten\n",
    "def load_data(file_path):\n",
    "    return np.loadtxt(file_path)\n",
    "\n",
    "# Funktion zur Frequenzanalyse\n",
    "def frequency_analysis(data, fs=1000):\n",
    "    f, Pxx = welch(data, fs, nperseg=1024)\n",
    "    return f, Pxx\n",
    "\n",
    "# Funktion zum Filtern der Daten\n",
    "def filter_data(data, lowcut=0.5, highcut=50.0, fs=1000, order=5):\n",
    "    nyquist = 0.5 * fs\n",
    "    low = lowcut / nyquist\n",
    "    high = highcut / nyquist\n",
    "    b, a = butter(order, [low, high], btype='band')\n",
    "    y = filtfilt(b, a, data)\n",
    "    return y\n",
    "\n",
    "# Datenpfad\n",
    "data_path = 'data/matti'\n",
    "\n",
    "# Dateien laden\n",
    "files = sorted([os.path.join(data_path, f) for f in os.listdir(data_path) if f.endswith('.txt')])\n",
    "\n",
    "# Analyse durchführen\n",
    "fig, axs = plt.subplots(3, 3, figsize=(15, 10))\n",
    "for i, file in enumerate(files):\n",
    "    data = load_data(file)\n",
    "    f, Pxx = frequency_analysis(data)\n",
    "    filtered_data = filter_data(data)\n",
    "    f_filtered, Pxx_filtered = frequency_analysis(filtered_data)\n",
    "    avg_freq = np.mean(f_filtered)\n",
    "\n",
    "    ax = axs[i // 3, i % 3]\n",
    "    ax.plot(f, Pxx, label='Raw Spectrum')\n",
    "    ax.plot(f_filtered, Pxx_filtered, label='Filtered Spectrum')\n",
    "    ax.axvline(avg_freq, color='r', linestyle='--', label='Avg Frequency')\n",
    "    ax.set_title(f'Experiment {i+1}')\n",
    "    ax.set_xlabel('Frequency (Hz)')\n",
    "    ax.set_ylabel('Power')\n",
    "    ax.legend()\n",
    "\n",
    "plt.tight_layout()\n",
    "plt.show()"
   ]
  }
 ],
 "metadata": {
  "kernelspec": {
   "display_name": "Python 3",
   "language": "python",
   "name": "python3"
  },
  "language_info": {
   "name": "python",
   "version": "3.12.2"
  }
 },
 "nbformat": 4,
 "nbformat_minor": 2
}
